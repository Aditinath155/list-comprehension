{
  "nbformat": 4,
  "nbformat_minor": 0,
  "metadata": {
    "colab": {
      "provenance": []
    },
    "kernelspec": {
      "name": "python3",
      "display_name": "Python 3"
    },
    "language_info": {
      "name": "python"
    }
  },
  "cells": [
    {
      "cell_type": "code",
      "execution_count": 1,
      "metadata": {
        "colab": {
          "base_uri": "https://localhost:8080/"
        },
        "id": "nWFMN9N1LZCX",
        "outputId": "40f04548-9c6e-4da6-8cc2-e08b74810f21"
      },
      "outputs": [
        {
          "output_type": "stream",
          "name": "stdout",
          "text": [
            "[1, 4, 9, 16, 25]\n"
          ]
        }
      ],
      "source": [
        "#Square the numbers\n",
        "numbers = [1,2,3,4,5]\n",
        "square_numbers= [i**2 for i in numbers]\n",
        "print(square_numbers)"
      ]
    },
    {
      "cell_type": "code",
      "source": [
        "#filtering even numbers from list\n",
        "numbers = [1,21,3,4,89,98]\n",
        "even_numbers = [i for i in numbers if i%2==0]\n",
        "print(even_numbers)"
      ],
      "metadata": {
        "colab": {
          "base_uri": "https://localhost:8080/"
        },
        "id": "Vchp8O_cNGHj",
        "outputId": "72dad6b7-d8b1-407e-a41e-4050b99692a2"
      },
      "execution_count": 2,
      "outputs": [
        {
          "output_type": "stream",
          "name": "stdout",
          "text": [
            "[4, 98]\n"
          ]
        }
      ]
    },
    {
      "cell_type": "code",
      "source": [
        "#Flaterring list of list\n",
        "lists =[[1,2,3],[4,5,6],[7,8,9]]\n",
        "flatering = [nested_numbers for sublist in  lists for nested_numbers in sublist]\n",
        "print(flatering)"
      ],
      "metadata": {
        "colab": {
          "base_uri": "https://localhost:8080/"
        },
        "id": "HP3JU1HlN5oF",
        "outputId": "dfbd0e9d-1bc3-48b6-8cb2-c0969a70eefa"
      },
      "execution_count": 3,
      "outputs": [
        {
          "output_type": "stream",
          "name": "stdout",
          "text": [
            "[1, 2, 3, 4, 5, 6, 7, 8, 9]\n"
          ]
        }
      ]
    },
    {
      "cell_type": "code",
      "source": [
        "#flatering word\n",
        "lists = [ ['a','b','c'],['d','e','f'],['g','h','i']]\n",
        "flatering = [alphabet for sub_alphabet in lists for alphabet in sub_alphabet]\n",
        "print(flatering)\n"
      ],
      "metadata": {
        "colab": {
          "base_uri": "https://localhost:8080/"
        },
        "id": "0hrRdf3uO50p",
        "outputId": "40733ae4-828c-4b51-c836-0bfd44673195"
      },
      "execution_count": 4,
      "outputs": [
        {
          "output_type": "stream",
          "name": "stdout",
          "text": [
            "['a', 'b', 'c', 'd', 'e', 'f', 'g', 'h', 'i']\n"
          ]
        }
      ]
    },
    {
      "cell_type": "code",
      "source": [
        "#Genrating a first letter of list\n",
        "lists = ['apple','ball','cat']\n",
        "first_letter = [alphabet[0]for alphabet in lists ]\n",
        "print(first_letter)"
      ],
      "metadata": {
        "colab": {
          "base_uri": "https://localhost:8080/"
        },
        "id": "kxh_ehxUQIwc",
        "outputId": "0aabc5e8-69d1-4123-8c19-09499e2f97b3"
      },
      "execution_count": 5,
      "outputs": [
        {
          "output_type": "stream",
          "name": "stdout",
          "text": [
            "['a', 'b', 'c']\n"
          ]
        }
      ]
    },
    {
      "cell_type": "code",
      "source": [
        "#Genrating a first letter of list\n",
        "lists = [['apple'],['ball'],['cat']]\n",
        "first_letter = [alpha[0]for nested_alpha in lists for alpha in nested_alpha]\n",
        "print(first_letter)"
      ],
      "metadata": {
        "colab": {
          "base_uri": "https://localhost:8080/"
        },
        "id": "xbtdRX_OQA3b",
        "outputId": "f065eddf-251e-4119-c829-75034ed7ee06"
      },
      "execution_count": 6,
      "outputs": [
        {
          "output_type": "stream",
          "name": "stdout",
          "text": [
            "['a', 'b', 'c']\n"
          ]
        }
      ]
    },
    {
      "cell_type": "code",
      "source": [
        "#Generating a list of square in even numbers\n",
        "numbers =[1,2,3,4,5,6,7,8,9,10]\n",
        "square_number = [n**2 for n in numbers if n%2==0 ]\n",
        "print(square_number)"
      ],
      "metadata": {
        "colab": {
          "base_uri": "https://localhost:8080/"
        },
        "id": "q4uHW8ivRQAl",
        "outputId": "fdc34fda-e20e-4cec-e320-b7b621b02770"
      },
      "execution_count": 7,
      "outputs": [
        {
          "output_type": "stream",
          "name": "stdout",
          "text": [
            "[4, 16, 36, 64, 100]\n"
          ]
        }
      ]
    },
    {
      "cell_type": "code",
      "source": [
        "#Converting a list of string in list of integers\n",
        "string = ['1','2','3','4','5']\n",
        "lists =[list(number) for number in string ]\n",
        "print(type(lists))"
      ],
      "metadata": {
        "colab": {
          "base_uri": "https://localhost:8080/"
        },
        "id": "DRRvihagSQfU",
        "outputId": "a81a0d82-fc7a-4554-ed9d-61429bd99d2b"
      },
      "execution_count": 8,
      "outputs": [
        {
          "output_type": "stream",
          "name": "stdout",
          "text": [
            "<class 'list'>\n"
          ]
        }
      ]
    },
    {
      "cell_type": "code",
      "source": [
        "#Generating a list of all divisor of a number\n",
        "number = 72\n",
        "divisor = [i for i in range(1,number+1) if number%i ==0]\n",
        "print(divisor)"
      ],
      "metadata": {
        "colab": {
          "base_uri": "https://localhost:8080/"
        },
        "id": "PSZwoWE0Tjyy",
        "outputId": "24d32f38-f3b7-4821-973d-7796b8f0028b"
      },
      "execution_count": 9,
      "outputs": [
        {
          "output_type": "stream",
          "name": "stdout",
          "text": [
            "[1, 2, 3, 4, 6, 8, 9, 12, 18, 24, 36, 72]\n"
          ]
        }
      ]
    }
  ]
}